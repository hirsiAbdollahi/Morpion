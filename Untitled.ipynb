{
 "cells": [
  {
   "cell_type": "code",
   "execution_count": 1,
   "metadata": {},
   "outputs": [],
   "source": [
    "import random "
   ]
  },
  {
   "cell_type": "code",
   "execution_count": 2,
   "metadata": {},
   "outputs": [],
   "source": [
    "def creation_jeu():\n",
    "    table = {}\n",
    "    for i in range(9) :       \n",
    "        table[i] = None\n",
    "\n",
    "\n",
    "\n",
    "#     print(table[0], table[1], table[2])\n",
    "#     print(table[3], table[4], table[5])\n",
    "#     print(table[6], table[7], table[8])\n",
    "    \n",
    "    joueurs= ['X', 'O']\n",
    "    \n",
    "    return table, joueurs\n",
    "    \n"
   ]
  },
  {
   "cell_type": "code",
   "execution_count": 3,
   "metadata": {},
   "outputs": [],
   "source": [
    "def coup_possible(table):\n",
    "    \n",
    "        return [k for k, v in table.items() if v is None]\n",
    "        \n",
    "\n",
    "    "
   ]
  },
  {
   "cell_type": "code",
   "execution_count": 4,
   "metadata": {},
   "outputs": [],
   "source": [
    "def make_move(table, joueurs):\n",
    "       \n",
    "        if len(coup_possible(table))>0:\n",
    "            rand =random.choice(coup_possible(table))\n",
    "            \n",
    "            table[rand] = joueurs\n",
    "\n",
    "\n",
    "            print(table[0], '|',table[1], '|', table[2])\n",
    "            print(table[3],  '|', table[4], '|',table[5])\n",
    "            print(table[6], '|', table[7],'|', table[8])\n",
    "\n",
    "# make_move(table, joueurs[0])"
   ]
  },
  {
   "cell_type": "code",
   "execution_count": 5,
   "metadata": {},
   "outputs": [],
   "source": [
    "def fin_jeu (table):\n",
    "        \n",
    "        # victore horizontale \n",
    "        if table[0] != None and table[0] == table[1] and table[1] == table [2]:\n",
    "            return table[0] \n",
    "        \n",
    "        if table[3] != None and table[3] == table[4] and table[4] == table [5]:\n",
    "            return table[3]\n",
    "\n",
    "        if table[6] != None and table[6] == table[7] and table[7] == table [8]:\n",
    "            return table[6]\n",
    "        \n",
    "        \n",
    "        # victore verticale\n",
    "        if table[0] != None and table[0] == table[3] and table[3] == table [6]:\n",
    "            return table[0] \n",
    "        \n",
    "        if table[1] != None and table[1] == table[4] and table[4] == table [7]:\n",
    "            return table[1]\n",
    "\n",
    "        if table[2] != None and table[2] == table[5] and table[5] == table [8]:\n",
    "            return table[2]\n",
    "        \n",
    "        \n",
    "        # victoire diagonale \n",
    "        # 1\n",
    "        \n",
    "        if table[0] != None and table[0] == table[4] and table[4] == table [8]:\n",
    "            return table[0] \n",
    "        \n",
    "        #2\n",
    "        if table[2] != None and table[2] == table[4] and table[4] == table [6]:\n",
    "            return table[2]\n",
    "\n",
    "        \n",
    "        # verifier jeu est fini\n",
    "        \n",
    "        for i in range(9) :       \n",
    "            if table[i] == None:\n",
    "                return None\n",
    "            \n",
    "        # aucun des cas ci-dessus : match nul \n",
    "        \n",
    "        return \"nul\"\n"
   ]
  },
  {
   "cell_type": "code",
   "execution_count": 6,
   "metadata": {},
   "outputs": [
    {
     "name": "stdout",
     "output_type": "stream",
     "text": [
      "None | None | None\n",
      "None | None | None\n",
      "None | None | X\n",
      "None | None | None\n",
      "O | None | None\n",
      "None | None | X\n",
      "None | None | None\n",
      "O | None | None\n",
      "X | None | X\n",
      "O | None | None\n",
      "O | None | None\n",
      "X | None | X\n",
      "O | X | None\n",
      "O | None | None\n",
      "X | None | X\n",
      "O | X | O\n",
      "O | None | None\n",
      "X | None | X\n",
      "O | X | O\n",
      "O | None | None\n",
      "X | X | X\n",
      "O | X | O\n",
      "O | O | None\n",
      "X | X | X\n",
      "O | X | O\n",
      "O | O | X\n",
      "X | X | X\n",
      "Le gagnant est X!\n"
     ]
    }
   ],
   "source": [
    "def morpion ():\n",
    "    \n",
    "    table, joueurs = creation_jeu()\n",
    "    resultat= fin_jeu(table)\n",
    "    \n",
    "    i=0\n",
    "    while resultat == None:\n",
    "        \n",
    "            resultat= fin_jeu(table)\n",
    "            \n",
    "            if resultat != None:\n",
    "                if resultat == 'X':\n",
    "                    print('Le gagnant est X!')\n",
    "                \n",
    "                if resultat == 'O':\n",
    "                    print('Le gagnant est O!')\n",
    "                    \n",
    "                if resultat == 'nul':\n",
    "                    print('match nul!')\n",
    "           \n",
    "           \n",
    "            j = 0\n",
    "            while len(coup_possible(table))> 0:\n",
    "                \n",
    "               \n",
    "                if (j % 2 == 0):\n",
    "                    # Jouer X d'abord Joueurs[0]= 'X'\n",
    "                        make_move(table, joueurs[0])\n",
    "                        \n",
    "                       \n",
    "                if (j % 2 != 0): \n",
    "                        make_move(table, joueurs[1])  \n",
    "                        \n",
    "                j= j +1        \n",
    "                \n",
    "         \n",
    "\n",
    "   \n",
    "morpion()"
   ]
  },
  {
   "cell_type": "code",
   "execution_count": null,
   "metadata": {},
   "outputs": [],
   "source": []
  },
  {
   "cell_type": "code",
   "execution_count": null,
   "metadata": {},
   "outputs": [],
   "source": []
  },
  {
   "cell_type": "code",
   "execution_count": null,
   "metadata": {},
   "outputs": [],
   "source": []
  },
  {
   "cell_type": "code",
   "execution_count": null,
   "metadata": {},
   "outputs": [],
   "source": []
  },
  {
   "cell_type": "code",
   "execution_count": null,
   "metadata": {},
   "outputs": [],
   "source": []
  }
 ],
 "metadata": {
  "kernelspec": {
   "display_name": "Python 3",
   "language": "python",
   "name": "python3"
  },
  "language_info": {
   "codemirror_mode": {
    "name": "ipython",
    "version": 3
   },
   "file_extension": ".py",
   "mimetype": "text/x-python",
   "name": "python",
   "nbconvert_exporter": "python",
   "pygments_lexer": "ipython3",
   "version": "3.7.4"
  }
 },
 "nbformat": 4,
 "nbformat_minor": 2
}
